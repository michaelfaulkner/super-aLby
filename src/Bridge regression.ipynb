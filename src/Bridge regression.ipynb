{
 "cells": [
  {
   "cell_type": "markdown",
   "metadata": {},
   "source": [
    "# Bridge regression"
   ]
  },
  {
   "cell_type": "markdown",
   "metadata": {},
   "source": [
    "In this case we have a model of the form\n",
    "\n",
    "\\begin{equation}\n",
    "y = X\\beta + \\epsilon,\n",
    "\\end{equation}\n",
    "\n",
    "where $y$ is an $n$-dimensional vector, $\\beta$ is a $d$-dimensional parameter and $\\epsilon_i \\sim N(0,\\sigma^2)$. The negative log-likelihood is simply $\\|y - X\\beta\\|^2/(2\\sigma^2)$.  Combining with an $L_q$ prior for $\\beta$ and a suitable choice for the noise $\\sigma^2$ and the hyperparameter $\\lambda$ controlling prior influence, this gives\n",
    "\n",
    "\\begin{equation}\n",
    "U(\\beta, \\sigma^2, \\lambda, q) = \\frac{1}{2\\sigma^2}\\|y - X\\beta\\|^2 + \\frac{\\lambda}{\\sigma^2} \\sum_{j=1}^d |\\beta_j|^q + c(q) -\\frac{d}{2}\\log\\left(\\frac{\\lambda}{\\sigma^2}\\right) + U_0(\\sigma) + U_0(q) + U_0(\\lambda).\n",
    "\\end{equation}\n",
    "\n",
    "We consider scenarios in which a dirac prior is placed on $\\sigma, \\lambda$ and $q$, and then possibly one in which(some of) these are inferred from the data, by using a more diffuse prior. When doing so it is important to specify a conditional prior for $\\lambda|\\sigma$ to ensure a unimodal posterior, as in Park & Casella (2008).\n",
    "\n",
    "The simplest realistic example is to probably infer $(\\beta,\\sigma^2)$ from the data and perform a grid search of possible values for $(\\lambda, q)$ from a range of alternatives, validating based on prediction error for a hold out set of data.  More sophisticated methods may be needed for $\\lambda$."
   ]
  },
  {
   "cell_type": "code",
   "execution_count": 1,
   "metadata": {},
   "outputs": [
    {
     "ename": "RRuntimeError",
     "evalue": "Error in loadNamespace(name) : there is no package called 'LaplacesDemon'\n",
     "output_type": "error",
     "traceback": [
      "\u001b[1;31m---------------------------------------------------------------------------\u001b[0m",
      "\u001b[1;31mRRuntimeError\u001b[0m                             Traceback (most recent call last)",
      "\u001b[1;32m<ipython-input-1-c13900cf4a05>\u001b[0m in \u001b[0;36m<module>\u001b[1;34m()\u001b[0m\n\u001b[0;32m      9\u001b[0m \u001b[1;31m# specific functions\u001b[0m\u001b[1;33m\u001b[0m\u001b[1;33m\u001b[0m\u001b[0m\n\u001b[0;32m     10\u001b[0m \u001b[1;32mimport\u001b[0m \u001b[0mHMC\u001b[0m \u001b[1;32mas\u001b[0m \u001b[0mh\u001b[0m\u001b[1;33m\u001b[0m\u001b[0m\n\u001b[1;32m---> 11\u001b[1;33m \u001b[1;32mfrom\u001b[0m \u001b[0mk_energies\u001b[0m \u001b[1;32mimport\u001b[0m \u001b[1;33m*\u001b[0m\u001b[1;33m\u001b[0m\u001b[0m\n\u001b[0m\u001b[0;32m     12\u001b[0m \u001b[1;33m\u001b[0m\u001b[0m\n\u001b[0;32m     13\u001b[0m \u001b[1;33m\u001b[0m\u001b[0m\n",
      "\u001b[1;32mC:\\Users\\Sam\\Dropbox\\Research\\kinetic energy HMC\\numerics\\k_energies.py\u001b[0m in \u001b[0;36m<module>\u001b[1;34m()\u001b[0m\n\u001b[0;32m     14\u001b[0m \u001b[0mn2ri\u001b[0m\u001b[1;33m.\u001b[0m\u001b[0mactivate\u001b[0m\u001b[1;33m(\u001b[0m\u001b[1;33m)\u001b[0m \u001b[1;31m# activate numpy R interface\u001b[0m\u001b[1;33m\u001b[0m\u001b[0m\n\u001b[0;32m     15\u001b[0m \u001b[1;33m\u001b[0m\u001b[0m\n\u001b[1;32m---> 16\u001b[1;33m \u001b[0mLaplace\u001b[0m \u001b[1;33m=\u001b[0m \u001b[0mrpackages\u001b[0m\u001b[1;33m.\u001b[0m\u001b[0mimportr\u001b[0m\u001b[1;33m(\u001b[0m\u001b[1;34m'LaplacesDemon'\u001b[0m\u001b[1;33m)\u001b[0m \u001b[1;31m# import Laplaces Demon package\u001b[0m\u001b[1;33m\u001b[0m\u001b[0m\n\u001b[0m\u001b[0;32m     17\u001b[0m \u001b[0mARS\u001b[0m \u001b[1;33m=\u001b[0m \u001b[0mrpackages\u001b[0m\u001b[1;33m.\u001b[0m\u001b[0mimportr\u001b[0m\u001b[1;33m(\u001b[0m\u001b[1;34m'ars'\u001b[0m\u001b[1;33m)\u001b[0m \u001b[1;31m# import adaptive rejection sampling package\u001b[0m\u001b[1;33m\u001b[0m\u001b[0m\n\u001b[0;32m     18\u001b[0m \u001b[0mPEF\u001b[0m \u001b[1;33m=\u001b[0m \u001b[0mrpackages\u001b[0m\u001b[1;33m.\u001b[0m\u001b[0mimportr\u001b[0m\u001b[1;33m(\u001b[0m\u001b[1;34m'normalp'\u001b[0m\u001b[1;33m)\u001b[0m \u001b[1;31m# import exponential power family package\u001b[0m\u001b[1;33m\u001b[0m\u001b[0m\n",
      "\u001b[1;32mC:\\Users\\Sam\\Anaconda2\\lib\\site-packages\\rpy2\\robjects\\packages.pyc\u001b[0m in \u001b[0;36mimportr\u001b[1;34m(name, lib_loc, robject_translations, signature_translation, suppress_messages, on_conflict, symbol_r2python, symbol_check_after, data)\u001b[0m\n\u001b[0;32m    436\u001b[0m     if _package_has_namespace(rname, \n\u001b[0;32m    437\u001b[0m                               _system_file(package = rname)):\n\u001b[1;32m--> 438\u001b[1;33m         \u001b[0menv\u001b[0m \u001b[1;33m=\u001b[0m \u001b[0m_get_namespace\u001b[0m\u001b[1;33m(\u001b[0m\u001b[0mrname\u001b[0m\u001b[1;33m)\u001b[0m\u001b[1;33m\u001b[0m\u001b[0m\n\u001b[0m\u001b[0;32m    439\u001b[0m         \u001b[0mversion\u001b[0m \u001b[1;33m=\u001b[0m \u001b[0m_get_namespace_version\u001b[0m\u001b[1;33m(\u001b[0m\u001b[0mrname\u001b[0m\u001b[1;33m)\u001b[0m\u001b[1;33m[\u001b[0m\u001b[1;36m0\u001b[0m\u001b[1;33m]\u001b[0m\u001b[1;33m\u001b[0m\u001b[0m\n\u001b[0;32m    440\u001b[0m         \u001b[0mexported_names\u001b[0m \u001b[1;33m=\u001b[0m \u001b[0mset\u001b[0m\u001b[1;33m(\u001b[0m\u001b[0m_get_namespace_exports\u001b[0m\u001b[1;33m(\u001b[0m\u001b[0mrname\u001b[0m\u001b[1;33m)\u001b[0m\u001b[1;33m)\u001b[0m\u001b[1;33m\u001b[0m\u001b[0m\n",
      "\u001b[1;31mRRuntimeError\u001b[0m: Error in loadNamespace(name) : there is no package called 'LaplacesDemon'\n"
     ]
    }
   ],
   "source": [
    "%matplotlib inline\n",
    "\n",
    "import matplotlib\n",
    "import numpy as np\n",
    "import matplotlib.cm as cm\n",
    "import matplotlib.mlab as mlab\n",
    "import matplotlib.pyplot as plt\n",
    "\n",
    "# specific functions\n",
    "import HMC as h\n",
    "from k_energies import *\n",
    "\n",
    "\n",
    "# Simple potential class for Bridge regression model (beta only)\n",
    "class Bridge:\n",
    "    def __init__(self, h, sigma, q, X, y):\n",
    "        self.h = h # regularising multiplier\n",
    "        self.sigma = sigma # observation standard deviation\n",
    "        self.q = q # regularising power\n",
    "        self.X = X # design matrix\n",
    "        self.y = y # response vector\n",
    "        \n",
    "    def value(self, beta):\n",
    "        h = self.h\n",
    "        sigma = self.sigma\n",
    "        q = self.q\n",
    "        X = self.X\n",
    "        y = self.y\n",
    "        \n",
    "        neg_ll = np.sum((y - np.dot(X,beta))**2)/(2*sigma**2)\n",
    "        beta_prior = (h/sigma**2) * np.sum( np.absolute(beta)**q ) #- len(np.atleast_1d(beta))/2.0 * log(h/sigma**2)\n",
    "        return neg_ll + beta_prior\n",
    "        \n",
    "    def grad(self,beta):\n",
    "        h = self.h\n",
    "        sigma = self.sigma\n",
    "        q = self.q\n",
    "        X = self.X\n",
    "        y = self.y\n",
    "        \n",
    "        score = 1/(sigma**2) * np.dot( np.transpose(X), y - np.dot(X,beta) )\n",
    "        d_prior = (h/sigma**2) * q*np.sign(beta)*np.absolute(beta)**(q-1)\n",
    "        return score + d_prior\n",
    "\n",
    "x1 = np.random.normal(size=10)\n",
    "x2 = np.random.normal(size=10)\n",
    "x = np.empty([10,2])\n",
    "x[:,0] = x1\n",
    "x[:,1] = x2\n",
    "y = 10*x[:,0] + 10*x[:,1] + np.random.normal(size=10)\n",
    "plt.plot(x[:,0],y,'bo')\n",
    "plt.plot(x[:,1],y,'ro')\n",
    "\n",
    "U = Bridge(h = 1, sigma = 1, q = 1.5, X = x, y = y)\n",
    "\n",
    "print U.grad(np.array([2,3]))\n",
    "print U.grad(np.array([4,5]))\n",
    "print U.grad(np.array([0,0]))"
   ]
  },
  {
   "cell_type": "code",
   "execution_count": 117,
   "metadata": {},
   "outputs": [
    {
     "name": "stdout",
     "output_type": "stream",
     "text": [
      "Acceptance rate: 0.572400\n",
      "LF Steps: 1, Step-size: 0.010\n",
      "Numerical divergences: 0\n",
      "Acceptance rate: 0.671500\n",
      "LF Steps: 1, Step-size: 0.010\n",
      "Numerical divergences: 0\n",
      "Acceptance rate: 0.650200\n",
      "LF Steps: 1, Step-size: 0.010\n",
      "Numerical divergences: 0\n"
     ]
    }
   ],
   "source": [
    "# test out model on toy example\n",
    "U = Bridge(h = 0, sigma = 1, q = 2, X = x, y = y)\n",
    "\n",
    "K_g = Gauss()\n",
    "#K_rel = GR_family(1)\n",
    "K_l = Laplace()\n",
    "K_t = Student(1)\n",
    "\n",
    "start_vec = np.ones(2)\n",
    "nits = 10000\n",
    "\n",
    "samples_g = h.HMC(nits, start_vec, U, K_g, L = 1, e = 0.01) #, BurnIn = 500)\n",
    "#samples_rel = h.HMC(nits, start_vec, U, K_rel, L = 1, e = 1.5) #, BurnIn = 500)\n",
    "samples_l = h.HMC(nits, start_vec, U, K_l, L = 1, e = 0.01) #, BurnIn = 500)\n",
    "samples_t = h.HMC(nits, start_vec, U, K_t, L = 1, e = 0.01) #, BurnIn = 500)\n",
    "\n",
    "x_samples_g = samples_g['x']\n",
    "#x_samples_rel = samples_rel['x']\n",
    "x_samples_l = samples_l['x']\n",
    "x_samples_t = samples_t['x']"
   ]
  },
  {
   "cell_type": "code",
   "execution_count": 118,
   "metadata": {},
   "outputs": [
    {
     "data": {
      "image/png": "[encoded data removed]",
      "text/plain": [
       "<matplotlib.figure.Figure at 0x11470c8d0>"
      ]
     },
     "metadata": {},
     "output_type": "display_data"
    }
   ],
   "source": [
    "view = 0\n",
    "plt.plot(x_samples_l[view,:], 'b-', label = \"Laplace\");\n",
    "#plt.plot(x_samples_g[0,:], 'b-', label = \"Gauss\");\n",
    "plt.plot(x_samples_g[view,:], 'r-', label = \"Gauss\");\n",
    "plt.plot(x_samples_t[view,:], 'g-', label = \"Student\");\n",
    "\n",
    "## I'm not sure why this isn't working as expected..."
   ]
  }
 ],
 "metadata": {
  "anaconda-cloud": {},
  "kernelspec": {
   "display_name": "Python 2",
   "language": "python",
   "name": "python2"
  },
  "language_info": {
   "codemirror_mode": {
    "name": "ipython",
    "version": 2
   },
   "file_extension": ".py",
   "mimetype": "text/x-python",
   "name": "python",
   "nbconvert_exporter": "python",
   "pygments_lexer": "ipython2",
   "version": "2.7.14"
  }
 },
 "nbformat": 4,
 "nbformat_minor": 1
}
