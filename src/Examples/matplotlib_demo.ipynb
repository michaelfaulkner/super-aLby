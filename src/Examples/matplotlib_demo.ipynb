{
 "cells": [
  {
   "cell_type": "code",
   "execution_count": 7,
   "metadata": {
    "collapsed": false
   },
   "outputs": [],
   "source": [
    "%matplotlib inline"
   ]
  },
  {
   "cell_type": "code",
   "execution_count": 8,
   "metadata": {
    "collapsed": true
   },
   "outputs": [],
   "source": [
    "import matplotlib.pyplot as plt\n",
    "import numpy as np"
   ]
  },
  {
   "cell_type": "code",
   "execution_count": null,
   "metadata": {
    "collapsed": true
   },
   "outputs": [],
   "source": [
    "reaction_times = [340.1, 402.1, 540.2, 256.2, 839.1, 350.4, 200.9, 632.4, 492.4, 495.2, 310.9]"
   ]
  },
  {
   "cell_type": "code",
   "execution_count": 4,
   "metadata": {
    "collapsed": false
   },
   "outputs": [
    {
     "data": {
      "text/plain": [
       "441.80909090909086"
      ]
     },
     "execution_count": 4,
     "metadata": {},
     "output_type": "execute_result"
    }
   ],
   "source": [
    "reactions_np = np.array(reaction_times)\n",
    "reactions_np.mean()"
   ]
  },
  {
   "cell_type": "code",
   "execution_count": 5,
   "metadata": {
    "collapsed": false
   },
   "outputs": [
    {
     "data": {
      "text/plain": [
       "<matplotlib.text.Text at 0x10d96bad0>"
      ]
     },
     "execution_count": 5,
     "metadata": {},
     "output_type": "execute_result"
    },
    {
     "data": {
      "image/png": "[encoded data removed]",
      "text/plain": [
       "<matplotlib.figure.Figure at 0x10b553890>"
      ]
     },
     "metadata": {},
     "output_type": "display_data"
    }
   ],
   "source": [
    "plt.plot(reactions_np)\n",
    "plt.xlabel('Participant')\n",
    "plt.ylabel('Reaction time (ms)')"
   ]
  },
  {
   "cell_type": "code",
   "execution_count": 6,
   "metadata": {
    "collapsed": false
   },
   "outputs": [
    {
     "data": {
      "image/png": "[encoded data removed]",
      "text/plain": [
       "<matplotlib.figure.Figure at 0x10d9972d0>"
      ]
     },
     "metadata": {},
     "output_type": "display_data"
    }
   ],
   "source": [
    "plt.plot(reactions_np, 'ro', label='reaction times')\n",
    "plt.legend(); # semi-colon stops the <matplotlib> part from being displayed..."
   ]
  },
  {
   "cell_type": "code",
   "execution_count": 9,
   "metadata": {
    "collapsed": false
   },
   "outputs": [
    {
     "name": "stdout",
     "output_type": "stream",
     "text": [
      "Help on function plot in module matplotlib.pyplot:\n",
      "\n",
      "plot(*args, **kwargs)\n",
      "    Plot lines and/or markers to the\n",
      "    :class:`~matplotlib.axes.Axes`.  *args* is a variable length\n",
      "    argument, allowing for multiple *x*, *y* pairs with an\n",
      "    optional format string.  For example, each of the following is\n",
      "    legal::\n",
      "    \n",
      "        plot(x, y)        # plot x and y using default line style and color\n",
      "        plot(x, y, 'bo')  # plot x and y using blue circle markers\n",
      "        plot(y)           # plot y using x as index array 0..N-1\n",
      "        plot(y, 'r+')     # ditto, but with red plusses\n",
      "    \n",
      "    If *x* and/or *y* is 2-dimensional, then the corresponding columns\n",
      "    will be plotted.\n",
      "    \n",
      "    If used with labeled data, make sure that the color spec is not\n",
      "    included as an element in data, as otherwise the last case\n",
      "    ``plot(\"v\",\"r\", data={\"v\":..., \"r\":...)``\n",
      "    can be interpreted as the first case which would do ``plot(v, r)``\n",
      "    using the default line style and color.\n",
      "    \n",
      "    If not used with labeled data (i.e., without a data argument),\n",
      "    an arbitrary number of *x*, *y*, *fmt* groups can be specified, as in::\n",
      "    \n",
      "        a.plot(x1, y1, 'g^', x2, y2, 'g-')\n",
      "    \n",
      "    Return value is a list of lines that were added.\n",
      "    \n",
      "    By default, each line is assigned a different style specified by a\n",
      "    'style cycle'.  To change this behavior, you can edit the\n",
      "    axes.prop_cycle rcParam.\n",
      "    \n",
      "    The following format string characters are accepted to control\n",
      "    the line style or marker:\n",
      "    \n",
      "    ================    ===============================\n",
      "    character           description\n",
      "    ================    ===============================\n",
      "    ``'-'``             solid line style\n",
      "    ``'--'``            dashed line style\n",
      "    ``'-.'``            dash-dot line style\n",
      "    ``':'``             dotted line style\n",
      "    ``'.'``             point marker\n",
      "    ``','``             pixel marker\n",
      "    ``'o'``             circle marker\n",
      "    ``'v'``             triangle_down marker\n",
      "    ``'^'``             triangle_up marker\n",
      "    ``'<'``             triangle_left marker\n",
      "    ``'>'``             triangle_right marker\n",
      "    ``'1'``             tri_down marker\n",
      "    ``'2'``             tri_up marker\n",
      "    ``'3'``             tri_left marker\n",
      "    ``'4'``             tri_right marker\n",
      "    ``'s'``             square marker\n",
      "    ``'p'``             pentagon marker\n",
      "    ``'*'``             star marker\n",
      "    ``'h'``             hexagon1 marker\n",
      "    ``'H'``             hexagon2 marker\n",
      "    ``'+'``             plus marker\n",
      "    ``'x'``             x marker\n",
      "    ``'D'``             diamond marker\n",
      "    ``'d'``             thin_diamond marker\n",
      "    ``'|'``             vline marker\n",
      "    ``'_'``             hline marker\n",
      "    ================    ===============================\n",
      "    \n",
      "    \n",
      "    The following color abbreviations are supported:\n",
      "    \n",
      "    ==========  ========\n",
      "    character   color\n",
      "    ==========  ========\n",
      "    'b'         blue\n",
      "    'g'         green\n",
      "    'r'         red\n",
      "    'c'         cyan\n",
      "    'm'         magenta\n",
      "    'y'         yellow\n",
      "    'k'         black\n",
      "    'w'         white\n",
      "    ==========  ========\n",
      "    \n",
      "    In addition, you can specify colors in many weird and\n",
      "    wonderful ways, including full names (``'green'``), hex\n",
      "    strings (``'#008000'``), RGB or RGBA tuples (``(0,1,0,1)``) or\n",
      "    grayscale intensities as a string (``'0.8'``).  Of these, the\n",
      "    string specifications can be used in place of a ``fmt`` group,\n",
      "    but the tuple forms can be used only as ``kwargs``.\n",
      "    \n",
      "    Line styles and colors are combined in a single format string, as in\n",
      "    ``'bo'`` for blue circles.\n",
      "    \n",
      "    The *kwargs* can be used to set line properties (any property that has\n",
      "    a ``set_*`` method).  You can use this to set a line label (for auto\n",
      "    legends), linewidth, anitialising, marker face color, etc.  Here is an\n",
      "    example::\n",
      "    \n",
      "        plot([1,2,3], [1,2,3], 'go-', label='line 1', linewidth=2)\n",
      "        plot([1,2,3], [1,4,9], 'rs',  label='line 2')\n",
      "        axis([0, 4, 0, 10])\n",
      "        legend()\n",
      "    \n",
      "    If you make multiple lines with one plot command, the kwargs\n",
      "    apply to all those lines, e.g.::\n",
      "    \n",
      "        plot(x1, y1, x2, y2, antialiased=False)\n",
      "    \n",
      "    Neither line will be antialiased.\n",
      "    \n",
      "    You do not need to use format strings, which are just\n",
      "    abbreviations.  All of the line properties can be controlled\n",
      "    by keyword arguments.  For example, you can set the color,\n",
      "    marker, linestyle, and markercolor with::\n",
      "    \n",
      "        plot(x, y, color='green', linestyle='dashed', marker='o',\n",
      "             markerfacecolor='blue', markersize=12).\n",
      "    \n",
      "    See :class:`~matplotlib.lines.Line2D` for details.\n",
      "    \n",
      "    The kwargs are :class:`~matplotlib.lines.Line2D` properties:\n",
      "    \n",
      "      agg_filter: unknown\n",
      "      alpha: float (0.0 transparent through 1.0 opaque) \n",
      "      animated: [True | False] \n",
      "      antialiased or aa: [True | False] \n",
      "      axes: an :class:`~matplotlib.axes.Axes` instance \n",
      "      clip_box: a :class:`matplotlib.transforms.Bbox` instance \n",
      "      clip_on: [True | False] \n",
      "      clip_path: [ (:class:`~matplotlib.path.Path`, :class:`~matplotlib.transforms.Transform`) | :class:`~matplotlib.patches.Patch` | None ] \n",
      "      color or c: any matplotlib color \n",
      "      contains: a callable function \n",
      "      dash_capstyle: ['butt' | 'round' | 'projecting'] \n",
      "      dash_joinstyle: ['miter' | 'round' | 'bevel'] \n",
      "      dashes: sequence of on/off ink in points \n",
      "      drawstyle: ['default' | 'steps' | 'steps-pre' | 'steps-mid' | 'steps-post'] \n",
      "      figure: a :class:`matplotlib.figure.Figure` instance \n",
      "      fillstyle: ['full' | 'left' | 'right' | 'bottom' | 'top' | 'none'] \n",
      "      gid: an id string \n",
      "      label: string or anything printable with '%s' conversion. \n",
      "      linestyle or ls: ['solid' | 'dashed', 'dashdot', 'dotted' | (offset, on-off-dash-seq) | ``'-'`` | ``'--'`` | ``'-.'`` | ``':'`` | ``'None'`` | ``' '`` | ``''``]\n",
      "      linewidth or lw: float value in points \n",
      "      marker: :mod:`A valid marker style <matplotlib.markers>`\n",
      "      markeredgecolor or mec: any matplotlib color \n",
      "      markeredgewidth or mew: float value in points \n",
      "      markerfacecolor or mfc: any matplotlib color \n",
      "      markerfacecoloralt or mfcalt: any matplotlib color \n",
      "      markersize or ms: float \n",
      "      markevery: [None | int | length-2 tuple of int | slice | list/array of int | float | length-2 tuple of float]\n",
      "      path_effects: unknown\n",
      "      picker: float distance in points or callable pick function ``fn(artist, event)`` \n",
      "      pickradius: float distance in points \n",
      "      rasterized: [True | False | None] \n",
      "      sketch_params: unknown\n",
      "      snap: unknown\n",
      "      solid_capstyle: ['butt' | 'round' |  'projecting'] \n",
      "      solid_joinstyle: ['miter' | 'round' | 'bevel'] \n",
      "      transform: a :class:`matplotlib.transforms.Transform` instance \n",
      "      url: a url string \n",
      "      visible: [True | False] \n",
      "      xdata: 1D array \n",
      "      ydata: 1D array \n",
      "      zorder: any number \n",
      "    \n",
      "    kwargs *scalex* and *scaley*, if defined, are passed on to\n",
      "    :meth:`~matplotlib.axes.Axes.autoscale_view` to determine\n",
      "    whether the *x* and *y* axes are autoscaled; the default is\n",
      "    *True*.\n",
      "    \n",
      "    Notes\n",
      "    -----\n",
      "    \n",
      "    In addition to the above described arguments, this function can take a\n",
      "    **data** keyword argument. If such a **data** argument is given, the\n",
      "    following arguments are replaced by **data[<arg>]**:\n",
      "    \n",
      "    * All arguments with the following names: 'y', 'x'.\n",
      "    \n",
      "    \n",
      "    \n",
      "    \n",
      "    Additional kwargs: hold = [True|False] overrides default hold state\n",
      "\n"
     ]
    }
   ],
   "source": [
    "help(plt.plot)"
   ]
  },
  {
   "cell_type": "code",
   "execution_count": 11,
   "metadata": {
    "collapsed": false
   },
   "outputs": [
    {
     "name": "stdout",
     "output_type": "stream",
     "text": [
      "3\n",
      "21\n",
      "21\n"
     ]
    },
    {
     "data": {
      "image/png": "[encoded data removed]",
      "text/plain": [
       "<matplotlib.figure.Figure at 0x10e126450>"
      ]
     },
     "metadata": {},
     "output_type": "display_data"
    }
   ],
   "source": [
    "# Define a Python function that computes the function value\n",
    "def f(x):\n",
    "    return 2*x**2 + 3\n",
    "\n",
    "print(f(0))\n",
    "print(f(-3))\n",
    "print(f(3))\n",
    "\n",
    "plt.plot([-3, 0, 3], [f(-3), f(0), f(3)]);"
   ]
  },
  {
   "cell_type": "code",
   "execution_count": 16,
   "metadata": {
    "collapsed": false
   },
   "outputs": [
    {
     "data": {
      "image/png": "[encoded data removed]",
      "text/plain": [
       "<matplotlib.figure.Figure at 0x10e842f10>"
      ]
     },
     "metadata": {},
     "output_type": "display_data"
    }
   ],
   "source": [
    "# We can plot functions easily\n",
    "#x = np.arange(-10,11)\n",
    "plt.plot(x, 2*x**2 + 3);"
   ]
  },
  {
   "cell_type": "code",
   "execution_count": null,
   "metadata": {
    "collapsed": true
   },
   "outputs": [],
   "source": []
  }
 ],
 "metadata": {
  "anaconda-cloud": {},
  "kernelspec": {
   "display_name": "Python [Root]",
   "language": "python",
   "name": "Python [Root]"
  },
  "language_info": {
   "codemirror_mode": {
    "name": "ipython",
    "version": 2
   },
   "file_extension": ".py",
   "mimetype": "text/x-python",
   "name": "python",
   "nbconvert_exporter": "python",
   "pygments_lexer": "ipython2",
   "version": "2.7.12"
  }
 },
 "nbformat": 4,
 "nbformat_minor": 0
}
