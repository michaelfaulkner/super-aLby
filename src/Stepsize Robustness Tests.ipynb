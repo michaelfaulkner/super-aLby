{
 "cells": [
  {
   "cell_type": "markdown",
   "metadata": {},
   "source": [
    "# Step-size robustness experiments"
   ]
  },
  {
   "cell_type": "markdown",
   "metadata": {},
   "source": [
    "We will try a simple experiment on a one-dimensional Gaussian to see if the step-size robustness property can be easily illustrated."
   ]
  },
  {
   "cell_type": "code",
   "execution_count": 1,
   "metadata": {
    "collapsed": true
   },
   "outputs": [],
   "source": [
    "%matplotlib inline\n",
    "\n",
    "import matplotlib\n",
    "import numpy as np\n",
    "import matplotlib.cm as cm\n",
    "import matplotlib.mlab as mlab\n",
    "import matplotlib.pyplot as plt\n",
    "\n",
    "# specific functions\n",
    "import HMC as h\n",
    "from k_energies import *\n",
    "import MC_diag as diag"
   ]
  },
  {
   "cell_type": "code",
   "execution_count": 2,
   "metadata": {
    "collapsed": true
   },
   "outputs": [],
   "source": [
    "# function to suppress output\n",
    "from contextlib import contextmanager\n",
    "import sys, os\n",
    "\n",
    "@contextmanager\n",
    "def suppress_stdout():\n",
    "    with open(os.devnull, \"w\") as devnull:\n",
    "        old_stdout = sys.stdout\n",
    "        sys.stdout = devnull\n",
    "        try:  \n",
    "            yield\n",
    "        finally:\n",
    "            sys.stdout = old_stdout"
   ]
  },
  {
   "cell_type": "code",
   "execution_count": 3,
   "metadata": {},
   "outputs": [
    {
     "name": "stdout",
     "output_type": "stream",
     "text": [
      "0.353553390593\n",
      "0.53033008589\n"
     ]
    }
   ],
   "source": [
    "# create potential class\n",
    "class MiddleTail:\n",
    "    def value(self, x):\n",
    "        return np.abs(x) ** 1.5\n",
    "    \n",
    "    def grad(self, x):\n",
    "        return 1.5 * x * np.abs(x) ** (0.5)\n",
    "    \n",
    "# quick checks\n",
    "U = MiddleTail()\n",
    "print U.value(0.5)\n",
    "print U.grad(0.5)"
   ]
  },
  {
   "cell_type": "code",
   "execution_count": 4,
   "metadata": {},
   "outputs": [
    {
     "name": "stdout",
     "output_type": "stream",
     "text": [
      "Iteration: 1\n",
      "Iteration: 2\n",
      "Iteration: 3\n",
      "Iteration: 4\n",
      "Iteration: 5\n",
      "Iteration: 6\n",
      "Iteration: 7\n",
      "Iteration: 8\n",
      "Iteration: 9\n",
      "Iteration: 10\n",
      "Iteration: 11\n",
      "Iteration: 12\n",
      "Iteration: 13\n",
      "Iteration: 14\n",
      "Iteration: 15\n",
      "Iteration: 16\n",
      "Iteration: 17\n",
      "Iteration: 18\n",
      "Iteration: 19\n",
      "Iteration: 20\n"
     ]
    }
   ],
   "source": [
    "# Set up ESJD experiment\n",
    "U = MiddleTail()\n",
    "\n",
    "K_g = Gauss()\n",
    "#K_r = Laplace()\n",
    "K_r = GR_family(1.0)\n",
    "K_e = GR_family(1.5)\n",
    "# ideally we want a p(1 - ln(p) kinetic energy, which we could sample from using adaptive rejection sampling.\n",
    "\n",
    "n_samples = 40000\n",
    "x_start = 0.5\n",
    "\n",
    "stepsizes = np.linspace(start = 0.1, stop = 2.5, num = 20)\n",
    "ESJDstore_g = np.zeros(len(stepsizes))\n",
    "ESJDstore_r = np.zeros(len(stepsizes))\n",
    "ESJDstore_e = np.zeros(len(stepsizes))\n",
    "\n",
    "for i in xrange(len(stepsizes)):\n",
    "    with suppress_stdout():\n",
    "        neg_r = h.HMC(n_samples, x_start, U, K_r, L = 5, e = stepsizes[i], BurnIn = 0);\n",
    "        neg_g = h.HMC(n_samples, x_start, U, K_g, L = 5, e = stepsizes[i], BurnIn = 0);\n",
    "        neg_e = h.HMC(n_samples, x_start, U, K_e, L = 5, e = stepsizes[i], BurnIn = 0);\n",
    "        \n",
    "        samples_r = neg_r['x']\n",
    "        samples_g = neg_g['x']\n",
    "        samples_e = neg_e['x']\n",
    "        \n",
    "        ESJD_g = np.mean( (samples_g[0,1:(n_samples+1)] - samples_g[0,0:n_samples]) ** 2)\n",
    "        ESJD_r = np.mean( (samples_r[0,1:(n_samples+1)] - samples_r[0,0:n_samples]) ** 2)\n",
    "        ESJD_e = np.mean( (samples_e[0,1:(n_samples+1)] - samples_e[0,0:n_samples]) ** 2)\n",
    "    \n",
    "        ESJDstore_g[i] = ESJD_g\n",
    "        ESJDstore_r[i] = ESJD_r\n",
    "        ESJDstore_e[i] = ESJD_e\n",
    "    print \"Iteration:\", i+1\n",
    "    "
   ]
  },
  {
   "cell_type": "code",
   "execution_count": 5,
   "metadata": {},
   "outputs": [
    {
     "data": {
      "image/png": "[encoded data removed]",
      "text/plain": [
       "<matplotlib.figure.Figure at 0x8c0d0b8>"
      ]
     },
     "metadata": {},
     "output_type": "display_data"
    }
   ],
   "source": [
    "#print diag.ess(samples_r[0,:])\n",
    "#print diag.ess(samples_g[0,:])\n",
    "\n",
    "#print samples_g\n",
    "\n",
    "#axes = plt.gca()\n",
    "#axes.set_ylim([-6,6])\n",
    "\n",
    "plt.plot(stepsizes, ESJDstore_g, 'bo');\n",
    "#plt.plot(stepsizes, ESJDstore_e, 'go');\n",
    "plt.plot(stepsizes, ESJDstore_r, 'ro');"
   ]
  },
  {
   "cell_type": "markdown",
   "metadata": {},
   "source": [
    "This does seem to broadly correlate with the logic, although the kink in the Gaussian case around the values at which it is close to the period length is an annoyance.  We can define a randomized HMC kernel to get around this."
   ]
  },
  {
   "cell_type": "code",
   "execution_count": 6,
   "metadata": {
    "collapsed": true
   },
   "outputs": [],
   "source": [
    "# New randomized HMC kernel\n",
    "def RHMC(nits, x_input, U, K, L, e, BurnIn = 0, Random = False, MH = True):\n",
    "\n",
    "    # preamble\n",
    "    #if type(x_input) is float or type(x_input) is int:\n",
    "    #    n = 1\n",
    "    #else:\n",
    "    #    n = len(x_input)\n",
    "\n",
    "    x = x_input # initial value for x\n",
    "    n = len(np.atleast_1d(x))\n",
    "    accepted = 0.\n",
    "    divergences = 0\n",
    "    LeapFrogSteps = L # initialise numer of LeapFrogSteps\n",
    "    x_store = np.empty((n,nits))\n",
    "    p_store = np.empty((n,nits))\n",
    "\n",
    "\n",
    "    for i in xrange(nits): # don't forget python arrays start at zero\n",
    "        # propose\n",
    "        p = K.sample(n) # resample momentum from (e^(-K(p))\n",
    "        #if Random == True: # randomise LeapFrogSteps\n",
    "        LeapFrogSteps = np.random.randint(1,2*L)\n",
    "        cand = h.flow(x, p, U.grad, K.grad, LeapFrogSteps, e) # run dynamics\n",
    "        x_can = cand[0,:]\n",
    "        p_can = cand[1,:]\n",
    "\n",
    "        # accept-reject if MH = True (otherwise accept all points)\n",
    "        if MH == True:\n",
    "            delta_H = U.value(x) + K.value(p) - U.value(x_can) - K.value(p_can)\n",
    "            if delta_H < -1000:\n",
    "                divergences += 1 # count numerical divergences\n",
    "                # update chain\n",
    "            u = np.random.uniform(0,1)\n",
    "            if log(u) < delta_H:\n",
    "                x = x_can\n",
    "                p = p_can\n",
    "                accepted += 1\n",
    "        else:\n",
    "            x = x_can\n",
    "            p = p_can\n",
    "\n",
    "        x_store[:,i] = x\n",
    "        p_store[:,i] = p\n",
    "\n",
    "        # Adapt step-size if BurnIn is nonzero\n",
    "        if i <= BurnIn - 1 and (i+1) % 100 == 0:\n",
    "            accept_rate = accepted / 100.0\n",
    "            if accept_rate > 0.8:\n",
    "                e = e * 1.1\n",
    "            elif accept_rate < 0.6:\n",
    "                e = e * 0.9\n",
    "            accepted = 0\n",
    "\n",
    "    # print acceptance rate\n",
    "    accept_rate = accepted/float(nits - BurnIn)\n",
    "    print \"Acceptance rate: %f\" % accept_rate\n",
    "    print \"LF Steps: %d, Step-size: %.3f\" % (L,e)\n",
    "    print \"Numerical divergences: %d\" % divergences\n",
    "\n",
    "    # bind initial values with MCMC output\n",
    "    x_return = np.empty((n, nits + 1))\n",
    "    p_return = np.empty((n, nits + 1))\n",
    "    x_return[:,0] = x_input\n",
    "    x_return[:,1:] = x_store\n",
    "    p_return[:,0] = np.zeros(n)\n",
    "    p_return[:,1:] = p_store\n",
    "\n",
    "    return { 'x':x_return, 'p':p_return }\n"
   ]
  },
  {
   "cell_type": "code",
   "execution_count": 7,
   "metadata": {},
   "outputs": [
    {
     "name": "stdout",
     "output_type": "stream",
     "text": [
      "Acceptance rate: 0.760575\n",
      "LF Steps: 5, Step-size: 1.000\n",
      "Numerical divergences: 0\n"
     ]
    }
   ],
   "source": [
    "RHMC(n_samples, x_start, U, K_g, L = 5, e = 1.0, BurnIn = 0);"
   ]
  },
  {
   "cell_type": "code",
   "execution_count": 8,
   "metadata": {},
   "outputs": [
    {
     "name": "stdout",
     "output_type": "stream",
     "text": [
      "Iteration: 1\n",
      "Iteration: 2\n",
      "Iteration: 3\n",
      "Iteration: 4\n",
      "Iteration: 5\n",
      "Iteration: 6\n",
      "Iteration: 7\n",
      "Iteration: 8\n",
      "Iteration: 9\n",
      "Iteration: 10\n",
      "Iteration: 11\n",
      "Iteration: 12\n",
      "Iteration: 13\n",
      "Iteration: 14\n",
      "Iteration: 15\n",
      "Iteration: 16\n",
      "Iteration: 17\n",
      "Iteration: 18\n",
      "Iteration: 19\n",
      "Iteration: 20\n",
      "Iteration: 21\n",
      "Iteration: 22\n",
      "Iteration: 23\n",
      "Iteration: 24\n",
      "Iteration: 25\n",
      "Iteration: 26\n",
      "Iteration: 27\n",
      "Iteration: 28\n",
      "Iteration: 29\n",
      "Iteration: 30\n",
      "Iteration: 31\n",
      "Iteration: 32\n",
      "Iteration: 33\n",
      "Iteration: 34\n",
      "Iteration: 35\n",
      "Iteration: 36\n",
      "Iteration: 37\n",
      "Iteration: 38\n",
      "Iteration: 39\n",
      "Iteration: 40\n",
      "Iteration: 41\n",
      "Iteration: 42\n",
      "Iteration: 43\n",
      "Iteration: 44\n",
      "Iteration: 45\n",
      "Iteration: 46\n",
      "Iteration: 47\n",
      "Iteration: 48\n",
      "Iteration: 49\n",
      "Iteration: 50\n",
      "Iteration: 51\n",
      "Iteration: 52\n",
      "Iteration: 53\n",
      "Iteration: 54\n",
      "Iteration: 55\n",
      "Iteration: 56\n",
      "Iteration: 57\n",
      "Iteration: 58\n",
      "Iteration: 59\n",
      "Iteration: 60\n",
      "Iteration: 61\n",
      "Iteration: 62\n",
      "Iteration: 63\n",
      "Iteration: 64\n",
      "Iteration: 65\n",
      "Iteration: 66\n",
      "Iteration: 67\n",
      "Iteration: 68\n",
      "Iteration: 69\n",
      "Iteration: 70\n",
      "Iteration: 71\n",
      "Iteration: 72\n",
      "Iteration: 73\n",
      "Iteration: 74\n",
      "Iteration: 75\n",
      "Iteration: 76\n",
      "Iteration: 77\n",
      "Iteration: 78\n",
      "Iteration: 79\n",
      "Iteration: 80\n"
     ]
    }
   ],
   "source": [
    "# Set up ESJD experiment\n",
    "U = MiddleTail()\n",
    "\n",
    "K_g = Gauss()\n",
    "#K_r = Laplace()\n",
    "K_r = GR_family(1.0)\n",
    "K_e = GR_family(1.5)\n",
    "# ideally we want a p(1 - ln(p) kinetic energy, which we could sample from using adaptive rejection sampling.\n",
    "\n",
    "n_samples = 200000\n",
    "x_start = 0.5\n",
    "\n",
    "stepsizes = np.linspace(start = 0.1, stop = 5.0, num = 80)\n",
    "ESJDstore_g = np.zeros(len(stepsizes))\n",
    "ESJDstore_r = np.zeros(len(stepsizes))\n",
    "ESJDstore_e = np.zeros(len(stepsizes))\n",
    "\n",
    "for i in xrange(len(stepsizes)):\n",
    "    with suppress_stdout():\n",
    "        neg_r = RHMC(n_samples, x_start, U, K_r, L = 5, e = stepsizes[i], BurnIn = 0);\n",
    "        neg_g = RHMC(n_samples, x_start, U, K_g, L = 5, e = stepsizes[i], BurnIn = 0);\n",
    "        neg_e = RHMC(n_samples, x_start, U, K_e, L = 5, e = stepsizes[i], BurnIn = 0);\n",
    "        \n",
    "        samples_r = neg_r['x']\n",
    "        samples_g = neg_g['x']\n",
    "        samples_e = neg_e['x']\n",
    "        \n",
    "        ESJD_g = np.mean( (samples_g[0,1:(n_samples+1)] - samples_g[0,0:n_samples]) ** 2)\n",
    "        ESJD_r = np.mean( (samples_r[0,1:(n_samples+1)] - samples_r[0,0:n_samples]) ** 2)\n",
    "        ESJD_e = np.mean( (samples_e[0,1:(n_samples+1)] - samples_e[0,0:n_samples]) ** 2)\n",
    "    \n",
    "        ESJDstore_g[i] = ESJD_g\n",
    "        ESJDstore_r[i] = ESJD_r\n",
    "        ESJDstore_e[i] = ESJD_e\n",
    "    print \"Iteration:\", i+1\n",
    "    "
   ]
  },
  {
   "cell_type": "code",
   "execution_count": 11,
   "metadata": {},
   "outputs": [
    {
     "data": {
      "text/plain": [
       "Text(0,0.5,u'ESJD')"
      ]
     },
     "execution_count": 11,
     "metadata": {},
     "output_type": "execute_result"
    },
    {
     "data": {
      "image/png": "[encoded data removed]",
      "text/plain": [
       "<matplotlib.figure.Figure at 0x8da2518>"
      ]
     },
     "metadata": {},
     "output_type": "display_data"
    }
   ],
   "source": [
    "\n",
    "plt.plot(stepsizes, ESJDstore_g, 'o');\n",
    "#plt.plot(stepsizes, ESJDstore_e, 'go');\n",
    "plt.plot(stepsizes, ESJDstore_r, 'x');\n",
    "#plt.plot(stepsizes, ESJDstore_e)\n",
    "plt.xlabel('Step-size', fontsize=12)\n",
    "plt.ylabel('ESJD', fontsize=12)"
   ]
  },
  {
   "cell_type": "code",
   "execution_count": 16,
   "metadata": {},
   "outputs": [],
   "source": [
    "fig, ax = plt.subplots( nrows=1, ncols=1 )  # create figure & 1 axis\n",
    "ax.plot(stepsizes, ESJDstore_g, 'o');\n",
    "ax.plot(stepsizes, ESJDstore_r, 'x');\n",
    "plt.xlabel('Step-size', fontsize=12)\n",
    "plt.ylabel('ESJD', fontsize=12)\n",
    "fig.savefig('step_robust.eps')   # save the figure to file\n",
    "plt.close(fig)    # close the figure"
   ]
  }
 ],
 "metadata": {
  "kernelspec": {
   "display_name": "Python 2",
   "language": "python",
   "name": "python2"
  },
  "language_info": {
   "codemirror_mode": {
    "name": "ipython",
    "version": 2
   },
   "file_extension": ".py",
   "mimetype": "text/x-python",
   "name": "python",
   "nbconvert_exporter": "python",
   "pygments_lexer": "ipython2",
   "version": "2.7.14"
  }
 },
 "nbformat": 4,
 "nbformat_minor": 2
}
